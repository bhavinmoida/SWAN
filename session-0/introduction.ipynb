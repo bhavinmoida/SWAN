{
 "cells": [
  {
   "cell_type": "markdown",
   "metadata": {},
   "source": [
    "# SWAN Data Analysis"
   ]
  },
  {
   "cell_type": "markdown",
   "metadata": {},
   "source": [
    "# *Session 0: Python Intro*\n",
    "\n",
    "### Topics covered:\n",
    "* Python installation (UNIX and Windows)\n",
    "* Jupyter Notebook installation\n",
    "* Demo:<br>\n",
    "    1. [Jupyter Notebook basics](#1.-Jupyter-Notebook-basics)<br>\n",
    "    2. [Python basics](#2.-Python-basics)<br>\n",
    "    3. [Numpy basics](#3.-Numpy-basics)<br>\n",
    "    4. [Plotting basics](#4.-Plotting-basics)<br>\n",
    "\n",
    "\n",
    "### Prepared by Hrishikesh Shetaonkar\n",
    "&emsp; Feel free to reach out if stuck anywhere:<br>\n",
    "&emsp; hrishikesh036@gmail.com * [LinkedIn](https://www.linkedin.com/in/hrishikesh-shetgaonkar/)<br>\n",
    "\n",
    "&emsp; <b>You can find all tutorial sessions on my [Github](https://github.com/hrshe). *Fork it!*</b>"
   ]
  },
  {
   "cell_type": "markdown",
   "metadata": {},
   "source": [
    "# Let's Start"
   ]
  },
  {
   "cell_type": "markdown",
   "metadata": {},
   "source": [
    "### 1. Jupyter Notebook basics\n",
    "#### Tasks\n",
    "1. Help ==> Keyboard Shortcuts\n",
    "2. Cell? ,<br>\n",
    "&emsp; - Command mode <*esc*> and Edit Mode <*return*> <br>\n",
    "3. Insert cell <br>\n",
    "&emsp; - Above: <*A*> <br>\n",
    "&emsp; - Below: <*B*> <br>\n",
    "4. Delete cell <br>\n",
    "&emsp; - Enter command mode and <*dd*> <br>\n",
    "3. Run cells: <br>\n",
    "&emsp; - simple run: <*cmd + return*><br>\n",
    "&emsp; - run and select next cell: <*shift + return*><br>\n",
    "&emsp; - run and insert a new cell: <*option + return*><br>"
   ]
  },
  {
   "cell_type": "code",
   "execution_count": 1,
   "metadata": {},
   "outputs": [],
   "source": [
    "#Insert a new cell below and the delete it\n"
   ]
  },
  {
   "cell_type": "code",
   "execution_count": 2,
   "metadata": {},
   "outputs": [
    {
     "data": {
      "text/plain": [
       "'Hello Universe'"
      ]
     },
     "execution_count": 2,
     "metadata": {},
     "output_type": "execute_result"
    }
   ],
   "source": [
    "# Try running this cell in different modes\n",
    "# Note that the next line of code is irrelevant and is only for demonstration. Don't fret over it.\n",
    "b'\\xff\\xfeH\\x00e\\x00l\\x00l\\x00o\\x00 \\x00U\\x00n\\x00i\\x00v\\x00e\\x00r\\x00s\\x00e\\x00'.decode('utf-16')"
   ]
  },
  {
   "cell_type": "code",
   "execution_count": 3,
   "metadata": {
    "scrolled": true
   },
   "outputs": [
    {
     "name": "stdout",
     "output_type": "stream",
     "text": [
      "Hey there! I'm using Python Notebook.\n"
     ]
    }
   ],
   "source": [
    "#A simple print statement\n",
    "print(\"Hey there! I'm using Python Notebook.\")"
   ]
  },
  {
   "cell_type": "code",
   "execution_count": 4,
   "metadata": {
    "scrolled": true
   },
   "outputs": [
    {
     "data": {
      "text/plain": [
       "\"Hey there! I'm using Python Notebook.\""
      ]
     },
     "execution_count": 4,
     "metadata": {},
     "output_type": "execute_result"
    }
   ],
   "source": [
    "#Interactive prompt\n",
    "\"Hey there! I'm using Python Notebook.\""
   ]
  },
  {
   "cell_type": "code",
   "execution_count": 5,
   "metadata": {},
   "outputs": [
    {
     "name": "stdout",
     "output_type": "stream",
     "text": [
      "\u001b[1m\u001b[36mAnalysisPackages\u001b[m\u001b[m             README.md\r\n",
      "Drifting_Subpulse_Thesis.pdf \u001b[1m\u001b[36mreadmeImages\u001b[m\u001b[m\r\n",
      "\u001b[1m\u001b[36mMBRData\u001b[m\u001b[m                      \u001b[1m\u001b[36mtests\u001b[m\u001b[m\r\n",
      "\u001b[1m\u001b[36mOutputData\u001b[m\u001b[m                   \u001b[1m\u001b[36mvenv\u001b[m\u001b[m\r\n"
     ]
    }
   ],
   "source": [
    "# run bash commands: Just add '!' as a prefix\n",
    "! ls ~/RRIProject/pulsar-analysis-package"
   ]
  },
  {
   "cell_type": "code",
   "execution_count": 6,
   "metadata": {},
   "outputs": [
    {
     "name": "stdout",
     "output_type": "stream",
     "text": [
      "/Users/hrishikesh.s/SWAN/sessions/data_processing/swan-processing-sessions/session-0\r\n"
     ]
    }
   ],
   "source": [
    "! pwd"
   ]
  },
  {
   "cell_type": "markdown",
   "metadata": {},
   "source": [
    "### 2. Python basics\n",
    "### Tasks\n",
    "2.1 import libraries <br>\n",
    "2.2 Data types <br>\n",
    "2.3 Type Casting <br>\n",
    "2.4 Dictionary <br>\n",
    "2.5 List <br>\n",
    "2.6 For loop <br>\n",
    "2.7 If - else <br>\n",
    "2.8 Input"
   ]
  },
  {
   "cell_type": "markdown",
   "metadata": {},
   "source": [
    "### Disclaimers!\n",
    "* Python (programming in general) is vast and fast evolving<br>\n",
    "&emsp; - Don't wait to do a course<br>\n",
    "&emsp; - Pick up a project and start implementing<br>\n",
    "\n",
    "* Language is not important. Focus on the logic<br>\n",
    "&emsp; - Why many languages?<br>\n",
    "&emsp; - Focus on the logic<br>\n",
    "\n",
    "* Googling is a very important skill!<br>"
   ]
  },
  {
   "cell_type": "markdown",
   "metadata": {},
   "source": [
    "### 2.1 Import libraries"
   ]
  },
  {
   "cell_type": "code",
   "execution_count": 7,
   "metadata": {},
   "outputs": [],
   "source": [
    "import numpy as np\n",
    "import warnings\n",
    "import matplotlib.pyplot as plt"
   ]
  },
  {
   "cell_type": "markdown",
   "metadata": {},
   "source": [
    "If you face errors in import, use *pip* to list all packages and check if the package is installed.<br>\n",
    "If not, you can use *pip* to install the package"
   ]
  },
  {
   "cell_type": "code",
   "execution_count": 8,
   "metadata": {
    "scrolled": true
   },
   "outputs": [
    {
     "name": "stdout",
     "output_type": "stream",
     "text": [
      "Package             Version\r\n",
      "------------------- ---------\r\n",
      "appnope             0.1.0\r\n",
      "argon2-cffi         20.1.0\r\n",
      "astroid             2.4.2\r\n",
      "astropy             4.2.1\r\n",
      "async-generator     1.10\r\n",
      "attrs               20.2.0\r\n",
      "backcall            0.2.0\r\n",
      "bleach              3.2.1\r\n",
      "certifi             2020.6.20\r\n",
      "cffi                1.14.3\r\n",
      "chardet             3.0.4\r\n",
      "click               7.1.2\r\n",
      "cycler              0.10.0\r\n",
      "decorator           4.4.2\r\n",
      "defusedxml          0.6.0\r\n",
      "docopt              0.6.2\r\n",
      "entrypoints         0.3\r\n",
      "Flask               1.1.2\r\n",
      "grip                4.5.2\r\n",
      "idna                2.10\r\n",
      "ipykernel           5.3.4\r\n",
      "ipython             7.18.1\r\n",
      "ipython-genutils    0.2.0\r\n",
      "isort               5.5.2\r\n",
      "itsdangerous        1.1.0\r\n",
      "jedi                0.17.2\r\n",
      "Jinja2              2.11.2\r\n",
      "jsonschema          3.2.0\r\n",
      "jupyter-client      6.1.7\r\n",
      "jupyter-core        4.6.3\r\n",
      "jupyterlab-pygments 0.1.2\r\n",
      "kiwisolver          1.2.0\r\n",
      "lazy-object-proxy   1.4.3\r\n",
      "Markdown            3.2.2\r\n",
      "MarkupSafe          1.1.1\r\n",
      "matplotlib          3.3.1\r\n",
      "mccabe              0.6.1\r\n",
      "mistune             0.8.4\r\n",
      "nbclient            0.5.0\r\n",
      "nbconvert           6.0.7\r\n",
      "nbformat            5.0.7\r\n",
      "nest-asyncio        1.4.1\r\n",
      "notebook            6.1.4\r\n",
      "numpy               1.19.2\r\n",
      "packaging           20.4\r\n",
      "pandocfilters       1.4.2\r\n",
      "parso               0.7.1\r\n",
      "path-and-address    2.0.1\r\n",
      "pexpect             4.8.0\r\n",
      "pickleshare         0.7.5\r\n",
      "Pillow              7.2.0\r\n",
      "pip                 21.1.1\r\n",
      "prometheus-client   0.8.0\r\n",
      "prompt-toolkit      3.0.7\r\n",
      "ptyprocess          0.6.0\r\n",
      "pycparser           2.20\r\n",
      "pyerfa              1.7.2\r\n",
      "pyFFTW              0.12.0\r\n",
      "Pygments            2.7.0\r\n",
      "pylint              2.6.0\r\n",
      "pyparsing           2.4.7\r\n",
      "PyQt5               5.15.1\r\n",
      "PyQt5-sip           12.8.1\r\n",
      "pyrsistent          0.17.3\r\n",
      "python-dateutil     2.8.1\r\n",
      "pyzmq               19.0.2\r\n",
      "requests            2.24.0\r\n",
      "scipy               1.5.2\r\n",
      "Send2Trash          1.5.0\r\n",
      "setuptools          56.0.0\r\n",
      "six                 1.15.0\r\n",
      "terminado           0.9.1\r\n",
      "testpath            0.4.4\r\n",
      "toml                0.10.1\r\n",
      "tornado             6.0.4\r\n",
      "tqdm                4.49.0\r\n",
      "traitlets           5.0.4\r\n",
      "urllib3             1.25.10\r\n",
      "wcwidth             0.2.5\r\n",
      "webencodings        0.5.1\r\n",
      "Werkzeug            1.0.1\r\n",
      "wheel               0.36.2\r\n",
      "wrapt               1.12.1\r\n"
     ]
    }
   ],
   "source": [
    "! pip3 list"
   ]
  },
  {
   "cell_type": "markdown",
   "metadata": {},
   "source": [
    "### 2.2 Data Types"
   ]
  },
  {
   "cell_type": "code",
   "execution_count": 9,
   "metadata": {},
   "outputs": [
    {
     "name": "stdout",
     "output_type": "stream",
     "text": [
      "Integer: 4\n",
      "Float: 4.2\n",
      "String 1: This is a string\n",
      "String 2: This is also a string\n",
      "Boolean: True\n"
     ]
    }
   ],
   "source": [
    "#data types\n",
    "int_var = 4\n",
    "float_var = 4.2\n",
    "str_var1 = \"This is a string\"\n",
    "str_var2 = 'This is also a string'\n",
    "bool_var = True\n",
    "\n",
    "print(f\"Integer: {int_var}\")\n",
    "print(f\"Float: {float_var}\")\n",
    "print(f\"String 1: {str_var1}\")\n",
    "print(f\"String 2: {str_var2}\")\n",
    "print(f\"Boolean: {bool_var}\")\n"
   ]
  },
  {
   "cell_type": "markdown",
   "metadata": {},
   "source": [
    "### 2.3 Type Casting"
   ]
  },
  {
   "cell_type": "code",
   "execution_count": 10,
   "metadata": {},
   "outputs": [
    {
     "name": "stdout",
     "output_type": "stream",
     "text": [
      "This is now a float: 4.0\n",
      "This is now a integer: 4\n",
      "This is a : <class 'str'> with value 347\n",
      "String is now converted to: <class 'int'> with value 347\n"
     ]
    }
   ],
   "source": [
    "#Type Casting\n",
    "print(f\"This is now a float: {float(int_var)}\")\n",
    "print(f\"This is now a integer: {int(float_var)}\")\n",
    "\n",
    "str_var3 = '347'\n",
    "print(f\"This is a : {type(str_var3)} with value {str_var3}\")\n",
    "str_var3 = int(str_var3)\n",
    "print(f\"String is now converted to: {type(str_var3)} with value {str_var3}\")"
   ]
  },
  {
   "cell_type": "markdown",
   "metadata": {},
   "source": [
    "More on implicit and explicit type casting: https://www.stackoftuts.com/python-3/typecasting-in-python/"
   ]
  },
  {
   "cell_type": "markdown",
   "metadata": {},
   "source": [
    "### 2.4 Dictionary"
   ]
  },
  {
   "cell_type": "code",
   "execution_count": 11,
   "metadata": {},
   "outputs": [],
   "source": [
    "#dictionaries ==> Is made up of key-value pairs\n",
    "person = {\n",
    "          \"first_name\": \"Jane\", \n",
    "          \"last_name\": \"Doe\", \n",
    "          \"age\":20, \n",
    "          \"graduated\": True,\n",
    "          \"cgpa\": 9.21\n",
    "         }"
   ]
  },
  {
   "cell_type": "code",
   "execution_count": 12,
   "metadata": {},
   "outputs": [
    {
     "data": {
      "text/plain": [
       "True"
      ]
     },
     "execution_count": 12,
     "metadata": {},
     "output_type": "execute_result"
    }
   ],
   "source": [
    "person.get(\"graduated\")"
   ]
  },
  {
   "cell_type": "code",
   "execution_count": 13,
   "metadata": {},
   "outputs": [
    {
     "data": {
      "text/plain": [
       "dict_keys(['first_name', 'last_name', 'age', 'graduated', 'cgpa'])"
      ]
     },
     "execution_count": 13,
     "metadata": {},
     "output_type": "execute_result"
    }
   ],
   "source": [
    "#get all keys\n",
    "person.keys()"
   ]
  },
  {
   "cell_type": "code",
   "execution_count": 14,
   "metadata": {},
   "outputs": [
    {
     "data": {
      "text/plain": [
       "dict_values(['Jane', 'Doe', 20, True, 9.21])"
      ]
     },
     "execution_count": 14,
     "metadata": {},
     "output_type": "execute_result"
    }
   ],
   "source": [
    "#get all values\n",
    "person.values()"
   ]
  },
  {
   "cell_type": "code",
   "execution_count": 15,
   "metadata": {},
   "outputs": [
    {
     "name": "stdout",
     "output_type": "stream",
     "text": [
      "name of person: Jane\n",
      "cgpa of person: 9.21\n"
     ]
    }
   ],
   "source": [
    "#fetch data\n",
    "print(\"name of person: \" + person.get(\"first_name\"))\n",
    "print(\"cgpa of person: \" + str(person.get(\"cgpa\")))"
   ]
  },
  {
   "cell_type": "markdown",
   "metadata": {},
   "source": [
    "### 2.5 List"
   ]
  },
  {
   "cell_type": "code",
   "execution_count": 16,
   "metadata": {},
   "outputs": [
    {
     "name": "stdout",
     "output_type": "stream",
     "text": [
      "['Alice', 'Bob', 'John', 'Jane', 'Pavan', 'Yash', 'Akhil']\n"
     ]
    }
   ],
   "source": [
    "students = [\"Alice\", \"Bob\", \"John\", \"Jane\", \"Pavan\", \"Yash\", \"Akhil\"]\n",
    "print(students)"
   ]
  },
  {
   "cell_type": "code",
   "execution_count": 17,
   "metadata": {},
   "outputs": [
    {
     "data": {
      "text/plain": [
       "['Alice', 'Bob', 'John', 'Jane', 'Pavan', 'Yash', 'Akhil', 'Hrishi']"
      ]
     },
     "execution_count": 17,
     "metadata": {},
     "output_type": "execute_result"
    }
   ],
   "source": [
    "students.append(\"Hrishi\")\n",
    "students"
   ]
  },
  {
   "cell_type": "code",
   "execution_count": 18,
   "metadata": {},
   "outputs": [
    {
     "data": {
      "text/plain": [
       "'Alice'"
      ]
     },
     "execution_count": 18,
     "metadata": {},
     "output_type": "execute_result"
    }
   ],
   "source": [
    "students[0]"
   ]
  },
  {
   "cell_type": "code",
   "execution_count": 19,
   "metadata": {},
   "outputs": [
    {
     "data": {
      "text/plain": [
       "['Alice', 'Bob', 'John', 'Jane']"
      ]
     },
     "execution_count": 19,
     "metadata": {},
     "output_type": "execute_result"
    }
   ],
   "source": [
    "students[:4]"
   ]
  },
  {
   "cell_type": "code",
   "execution_count": 20,
   "metadata": {},
   "outputs": [
    {
     "data": {
      "text/plain": [
       "['Pavan', 'Yash', 'Akhil', 'Hrishi']"
      ]
     },
     "execution_count": 20,
     "metadata": {},
     "output_type": "execute_result"
    }
   ],
   "source": [
    "students[4:]"
   ]
  },
  {
   "cell_type": "code",
   "execution_count": 21,
   "metadata": {},
   "outputs": [
    {
     "data": {
      "text/plain": [
       "['John', 'Jane', 'Pavan', 'Yash']"
      ]
     },
     "execution_count": 21,
     "metadata": {},
     "output_type": "execute_result"
    }
   ],
   "source": [
    "students[2:6]"
   ]
  },
  {
   "cell_type": "code",
   "execution_count": 22,
   "metadata": {},
   "outputs": [
    {
     "data": {
      "text/plain": [
       "'Hrishi'"
      ]
     },
     "execution_count": 22,
     "metadata": {},
     "output_type": "execute_result"
    }
   ],
   "source": [
    "students[-1]\n",
    "# We generally use arr[-1] to access last element"
   ]
  },
  {
   "cell_type": "code",
   "execution_count": 23,
   "metadata": {},
   "outputs": [
    {
     "data": {
      "text/plain": [
       "['Alice', 'Bob', 'John', 'Sanket', 'Jane', 'Pavan', 'Yash', 'Akhil', 'Hrishi']"
      ]
     },
     "execution_count": 23,
     "metadata": {},
     "output_type": "execute_result"
    }
   ],
   "source": [
    "students.insert(3, \"Sanket\")\n",
    "students"
   ]
  },
  {
   "cell_type": "markdown",
   "metadata": {},
   "source": [
    "### 2.6 For loop"
   ]
  },
  {
   "cell_type": "code",
   "execution_count": 24,
   "metadata": {},
   "outputs": [
    {
     "name": "stdout",
     "output_type": "stream",
     "text": [
      "0\n",
      "1\n",
      "2\n",
      "3\n",
      "4\n",
      "5\n",
      "6\n",
      "7\n",
      "8\n",
      "9\n"
     ]
    }
   ],
   "source": [
    "for i in range(10):\n",
    "    print(i)"
   ]
  },
  {
   "cell_type": "code",
   "execution_count": 25,
   "metadata": {},
   "outputs": [
    {
     "data": {
      "text/plain": [
       "[0, 1, 4, 9, 16, 25, 36, 49, 64, 81]"
      ]
     },
     "execution_count": 25,
     "metadata": {},
     "output_type": "execute_result"
    }
   ],
   "source": [
    "integers_array = []\n",
    "for i in range(10):\n",
    "    integers_array.append(i**2)\n",
    "\n",
    "integers_array    "
   ]
  },
  {
   "cell_type": "code",
   "execution_count": 26,
   "metadata": {},
   "outputs": [
    {
     "data": {
      "text/plain": [
       "[0, 1, 4, 9, 16, 25, 36, 49, 64, 81, 100, 121, 144, 169, 196]"
      ]
     },
     "execution_count": 26,
     "metadata": {},
     "output_type": "execute_result"
    }
   ],
   "source": [
    "integers_array = [i**2 for i in range(15)]\n",
    "integers_array"
   ]
  },
  {
   "cell_type": "code",
   "execution_count": 27,
   "metadata": {},
   "outputs": [
    {
     "name": "stdout",
     "output_type": "stream",
     "text": [
      "Alice\n",
      "Bob\n",
      "John\n",
      "Sanket\n",
      "Jane\n",
      "Pavan\n",
      "Yash\n",
      "Akhil\n",
      "Hrishi\n"
     ]
    }
   ],
   "source": [
    "# you can iterate over elements of a list directly without giving the index\n",
    "for student in students:\n",
    "    print(student)"
   ]
  },
  {
   "cell_type": "code",
   "execution_count": 28,
   "metadata": {},
   "outputs": [
    {
     "data": {
      "text/plain": [
       "['Alice', 'Bob', 'John', 'Sanket', 'Jane', 'Pavan', 'Yash', 'Akhil', 'Hrishi']"
      ]
     },
     "execution_count": 28,
     "metadata": {},
     "output_type": "execute_result"
    }
   ],
   "source": [
    "students"
   ]
  },
  {
   "cell_type": "markdown",
   "metadata": {},
   "source": [
    "### 2.7 If - else"
   ]
  },
  {
   "cell_type": "code",
   "execution_count": 29,
   "metadata": {},
   "outputs": [
    {
     "name": "stdout",
     "output_type": "stream",
     "text": [
      "executing true block\n"
     ]
    }
   ],
   "source": [
    "condition = 6\n",
    "if condition:\n",
    "    print(\"executing true block\")\n",
    "else:\n",
    "    print(\"executing false block\")\n",
    "# also works for 0 (false) and non zeros (true)"
   ]
  },
  {
   "cell_type": "code",
   "execution_count": 30,
   "metadata": {},
   "outputs": [
    {
     "name": "stdout",
     "output_type": "stream",
     "text": [
      "rounded: 5\n"
     ]
    }
   ],
   "source": [
    "float_var = 5.4\n",
    "output = 0\n",
    "\n",
    "#simple rounding logic\n",
    "if float_var - int(float_var) < 0.5:\n",
    "    output = int(float_var)\n",
    "else:\n",
    "    output = int(float_var) + 1\n",
    "\n",
    "print(\"rounded: \" + str(output))"
   ]
  },
  {
   "cell_type": "markdown",
   "metadata": {},
   "source": [
    "### 2.8 Input"
   ]
  },
  {
   "cell_type": "code",
   "execution_count": 31,
   "metadata": {},
   "outputs": [
    {
     "name": "stdout",
     "output_type": "stream",
     "text": [
      "Enter a value: \n",
      "Value entered: \n"
     ]
    }
   ],
   "source": [
    "input_str = input(\"Enter a value: \")\n",
    "print(f\"Value entered: {input_str}\")"
   ]
  },
  {
   "cell_type": "markdown",
   "metadata": {},
   "source": [
    "### 3. Numpy basics\n",
    "### Tasks\n",
    "3.1 Create Numpy Arrays <br>\n",
    "3.2 Accessing elements  <br>\n",
    "3.3 2D numpy arrays <br>\n",
    "3.4 Numpy methods <br>\n",
    "3.5 Flagging data with *np.nan* <br>"
   ]
  },
  {
   "cell_type": "code",
   "execution_count": 32,
   "metadata": {},
   "outputs": [],
   "source": [
    "import numpy as np"
   ]
  },
  {
   "cell_type": "markdown",
   "metadata": {},
   "source": [
    "### 3.1 Create Numpy Arrays"
   ]
  },
  {
   "cell_type": "code",
   "execution_count": 33,
   "metadata": {},
   "outputs": [
    {
     "data": {
      "text/plain": [
       "array([1, 2, 3, 4, 5])"
      ]
     },
     "execution_count": 33,
     "metadata": {},
     "output_type": "execute_result"
    }
   ],
   "source": [
    "# create numpy arrays\n",
    "list_arr = [1,2,3,4,5]\n",
    "np.array(list_arr)"
   ]
  },
  {
   "cell_type": "code",
   "execution_count": 34,
   "metadata": {},
   "outputs": [
    {
     "data": {
      "text/plain": [
       "array([0., 0., 0., 0., 0., 0., 0., 0., 0., 0.])"
      ]
     },
     "execution_count": 34,
     "metadata": {},
     "output_type": "execute_result"
    }
   ],
   "source": [
    "size = 10\n",
    "np.zeros(size)\n",
    "#similarly np.ones"
   ]
  },
  {
   "cell_type": "code",
   "execution_count": 35,
   "metadata": {},
   "outputs": [
    {
     "data": {
      "text/plain": [
       "array([ 0,  1,  2,  3,  4,  5,  6,  7,  8,  9, 10, 11, 12, 13, 14])"
      ]
     },
     "execution_count": 35,
     "metadata": {},
     "output_type": "execute_result"
    }
   ],
   "source": [
    "np.arange(15)"
   ]
  },
  {
   "cell_type": "code",
   "execution_count": 36,
   "metadata": {},
   "outputs": [
    {
     "data": {
      "text/plain": [
       "array([ 0. ,  2.5,  5. ,  7.5, 10. ])"
      ]
     },
     "execution_count": 36,
     "metadata": {},
     "output_type": "execute_result"
    }
   ],
   "source": [
    "# np.linspace(start,end, number of elements)\n",
    "\n",
    "x_axis = np.linspace(0,10, 5)\n",
    "x_axis"
   ]
  },
  {
   "cell_type": "markdown",
   "metadata": {},
   "source": [
    "### 3.2 Accessing elements "
   ]
  },
  {
   "cell_type": "code",
   "execution_count": 37,
   "metadata": {},
   "outputs": [
    {
     "name": "stdout",
     "output_type": "stream",
     "text": [
      "x_axis[2]=5.0\n",
      "x_axis[2:]=array([ 5. ,  7.5, 10. ])\n",
      "x_axis[2:4]=array([5. , 7.5])\n"
     ]
    }
   ],
   "source": [
    "print(f\"{x_axis[2]=}\")\n",
    "print(f\"{x_axis[2:]=}\")\n",
    "print(f\"{x_axis[2:4]=}\")"
   ]
  },
  {
   "cell_type": "markdown",
   "metadata": {},
   "source": [
    "### 3.3 2D numpy arrays"
   ]
  },
  {
   "cell_type": "code",
   "execution_count": 38,
   "metadata": {},
   "outputs": [
    {
     "data": {
      "text/plain": [
       "array([[1., 1., 1., 1., 1.],\n",
       "       [1., 1., 1., 1., 1.],\n",
       "       [1., 1., 1., 1., 1.]])"
      ]
     },
     "execution_count": 38,
     "metadata": {},
     "output_type": "execute_result"
    }
   ],
   "source": [
    "# 2D arrays\n",
    "np.ones((3,5))"
   ]
  },
  {
   "cell_type": "markdown",
   "metadata": {},
   "source": [
    "You can view 2D arrays as array of arrays <br>\n",
    "The first dim is rows, and second is columns... Everywhere! <br>\n",
    "Eg. no.ones((rows, cols)) <br>\n",
    "\n",
    "                        columns\n",
    "                ========================>\n",
    "           || [[23, 35,  0, 18, 10, 18, 24,  6],\n",
    "           ||  [ 5, 44, 23, 44, 35, 29, 35, 22],\n",
    "      rows ||  [41,  9, 41, 21, 23, 40, 41, 25],\n",
    "           ||  [28, 36, 39, 30, 48, 19, 18, 22],\n",
    "           \\/  [38, 38, 24, 47, 30, 40, 22, 30]])"
   ]
  },
  {
   "cell_type": "code",
   "execution_count": 39,
   "metadata": {},
   "outputs": [
    {
     "data": {
      "text/plain": [
       "array([[ 0,  1,  2,  3,  4],\n",
       "       [ 5,  6,  7,  8,  9],\n",
       "       [10, 11, 12, 13, 14],\n",
       "       [15, 16, 17, 18, 19]])"
      ]
     },
     "execution_count": 39,
     "metadata": {},
     "output_type": "execute_result"
    }
   ],
   "source": [
    "np_2d_array = np.arange(20).reshape(4,5)\n",
    "np_2d_array"
   ]
  },
  {
   "cell_type": "code",
   "execution_count": 40,
   "metadata": {},
   "outputs": [
    {
     "data": {
      "text/plain": [
       "(4, 5)"
      ]
     },
     "execution_count": 40,
     "metadata": {},
     "output_type": "execute_result"
    }
   ],
   "source": [
    "# get number of rows and cols\n",
    "np_2d_array.shape"
   ]
  },
  {
   "cell_type": "code",
   "execution_count": 41,
   "metadata": {},
   "outputs": [
    {
     "name": "stdout",
     "output_type": "stream",
     "text": [
      "rows: 4\n",
      "columns: 5\n"
     ]
    }
   ],
   "source": [
    "print(f\"rows: {np_2d_array.shape[0]}\\n\"\n",
    "      f\"columns: {np_2d_array.shape[1]}\")"
   ]
  },
  {
   "cell_type": "markdown",
   "metadata": {},
   "source": [
    "### 3.4 Numpy methods"
   ]
  },
  {
   "cell_type": "code",
   "execution_count": 42,
   "metadata": {},
   "outputs": [
    {
     "data": {
      "text/plain": [
       "array([25,  2, 26, 24, 36, 10, 11,  9, 15,  8, 30, 49, 28, 30,  6, 32, 38,\n",
       "       35, 15, 17])"
      ]
     },
     "execution_count": 42,
     "metadata": {},
     "output_type": "execute_result"
    }
   ],
   "source": [
    "np_1d_array = np.random.randint(50, size=20)\n",
    "np_1d_array"
   ]
  },
  {
   "cell_type": "markdown",
   "metadata": {},
   "source": [
    "Lets say we want to find mean of elements in np_1d_array. This can be achieved simply by:"
   ]
  },
  {
   "cell_type": "code",
   "execution_count": 43,
   "metadata": {},
   "outputs": [
    {
     "data": {
      "text/plain": [
       "49"
      ]
     },
     "execution_count": 43,
     "metadata": {},
     "output_type": "execute_result"
    }
   ],
   "source": [
    "np_1d_array.max()"
   ]
  },
  {
   "cell_type": "markdown",
   "metadata": {},
   "source": [
    "* Similarly we have methods like *sum( ), std( ), max( ), argmax( )...* <br>\n",
    "* *np.loadtxt( )* and *np.savetxt( )* too some are useful numpy methods. You'll see an example of its usage towards the end of this notebook(section )"
   ]
  },
  {
   "cell_type": "markdown",
   "metadata": {},
   "source": [
    "We can also take mean along rows and columns for 2D numpy arrays"
   ]
  },
  {
   "cell_type": "code",
   "execution_count": 44,
   "metadata": {},
   "outputs": [
    {
     "data": {
      "text/plain": [
       "array([[19, 23, 36, 16, 36, 41,  8, 10],\n",
       "       [46, 46, 43, 48, 48, 42,  7,  2],\n",
       "       [49, 41, 22, 22, 46, 40, 20, 30],\n",
       "       [21,  7, 12,  4, 15, 48, 33,  0],\n",
       "       [44, 21, 40, 40, 22, 18, 32,  5]])"
      ]
     },
     "execution_count": 44,
     "metadata": {},
     "output_type": "execute_result"
    }
   ],
   "source": [
    "np_2d_array = np.random.randint(50, size=40).reshape(5,-1)\n",
    "np_2d_array"
   ]
  },
  {
   "cell_type": "code",
   "execution_count": 45,
   "metadata": {},
   "outputs": [
    {
     "data": {
      "text/plain": [
       "array([35.8, 27.6, 30.6, 26. , 33.4, 37.8, 20. ,  9.4])"
      ]
     },
     "execution_count": 45,
     "metadata": {},
     "output_type": "execute_result"
    }
   ],
   "source": [
    "np.mean(np_2d_array, axis=0)"
   ]
  },
  {
   "cell_type": "code",
   "execution_count": 46,
   "metadata": {},
   "outputs": [
    {
     "data": {
      "text/plain": [
       "array([23.625, 35.25 , 33.75 , 17.5  , 27.75 ])"
      ]
     },
     "execution_count": 46,
     "metadata": {},
     "output_type": "execute_result"
    }
   ],
   "source": [
    "np.mean(np_2d_array, axis=1)"
   ]
  },
  {
   "cell_type": "markdown",
   "metadata": {},
   "source": [
    "### 3.5 Flagging data with *np.nan*"
   ]
  },
  {
   "cell_type": "markdown",
   "metadata": {},
   "source": [
    "While processing dat, you'll come across <b>missing data</b>. You might also need to <b>flag unwanted data</b> (eg. RFIs) so that this data is not included in your processing. Setting such data to <b>*np.nan*</b> helps a lot. Numpy also provides <b>inbuilt methods</b> to process data by <b>ignoring np.nan data</b>"
   ]
  },
  {
   "cell_type": "markdown",
   "metadata": {},
   "source": [
    "We'll revisit the np_1d_array. But now, we'll flag data whose value is greater than 35. You can think of this as if you are flagging strong signals."
   ]
  },
  {
   "cell_type": "code",
   "execution_count": 47,
   "metadata": {},
   "outputs": [
    {
     "data": {
      "text/plain": [
       "array([14, 17, 49, 48, 14, 48, 42,  5, 39, 20, 39, 26, 48,  5, 46, 19, 13,\n",
       "       20, 46,  0])"
      ]
     },
     "execution_count": 47,
     "metadata": {},
     "output_type": "execute_result"
    }
   ],
   "source": [
    "np_1d_array = np.random.randint(50, size=20)\n",
    "np_1d_array"
   ]
  },
  {
   "cell_type": "code",
   "execution_count": 48,
   "metadata": {},
   "outputs": [
    {
     "name": "stdout",
     "output_type": "stream",
     "text": [
      "[14. 17. 49. 48. 14. 48. 42.  5. 39. 20. 39. 26. 48.  5. 46. 19. 13. 20.\n",
      " 46.  0.]\n",
      "[14. 17. 49. 48. 14. nan 42. nan 39. 20. 39. 26. 48. nan 46. 19. 13. 20.\n",
      " 46.  0.]\n",
      "[14. 17. nan nan 14. nan nan nan nan 20. nan 26. nan nan nan 19. 13. 20.\n",
      " nan  0.]\n",
      "\n",
      "Mean for unflagged data is: 15.88888888888889\n"
     ]
    }
   ],
   "source": [
    "# Approach 1: Naive\n",
    "\n",
    "np_1d_array_copy = np_1d_array.copy()\n",
    "#NaN is a float... So first need to convert from int to float\n",
    "np_1d_array_copy = np.array(np_1d_array_copy, dtype = \"float\")\n",
    "print(np_1d_array_copy)\n",
    "\n",
    "# From some previous analysis, you know that data at index 5, 7 and 13 is bad and you have flagged that as well\n",
    "np_1d_array_copy[5] = np.nan\n",
    "np_1d_array_copy[7] = np.nan\n",
    "np_1d_array_copy[13] = np.nan\n",
    "print(np_1d_array_copy)\n",
    "\n",
    "#Logic to flag strong signals:\n",
    "for i in range(np_1d_array_copy.shape[0]):\n",
    "    if np_1d_array_copy[i] > 35:\n",
    "        np_1d_array_copy[i] = np.nan\n",
    "\n",
    "print(np_1d_array_copy)\n",
    "\n",
    "\n",
    "#Logic to calculate \n",
    "temp_sum = 0\n",
    "temp_count = 0\n",
    "for i in range(np_1d_array_copy.shape[0]):\n",
    "    if not np.isnan(np_1d_array_copy[i]):\n",
    "        temp_sum = temp_sum + np_1d_array_copy[i]\n",
    "        temp_count = temp_count +1\n",
    "\n",
    "print(f\"\\nMean for unflagged data is: {str(temp_sum/temp_count)}\")"
   ]
  },
  {
   "cell_type": "code",
   "execution_count": 49,
   "metadata": {},
   "outputs": [
    {
     "name": "stdout",
     "output_type": "stream",
     "text": [
      "[14. 17. 49. 48. 14. 48. 42.  5. 39. 20. 39. 26. 48.  5. 46. 19. 13. 20.\n",
      " 46.  0.]\n",
      "[14. 17. 49. 48. 14. nan 42. nan 39. 20. 39. 26. 48. nan 46. 19. 13. 20.\n",
      " 46.  0.]\n",
      "[14. 17. nan nan 14. nan nan nan nan 20. nan 26. nan nan nan 19. 13. 20.\n",
      " nan  0.]\n",
      "\n",
      "Mean for unflagged data is: 15.88888888888889\n"
     ]
    }
   ],
   "source": [
    "# Approach 2: \"Pythonic\"\n",
    "\n",
    "np_1d_array = np.array(np_1d_array, dtype = \"float\")\n",
    "print(np_1d_array)\n",
    "\n",
    "np_1d_array[[5,7,13]] = np.nan\n",
    "print(np_1d_array)\n",
    "\n",
    "np_1d_array[np_1d_array > 35] = np.nan\n",
    "print(np_1d_array)\n",
    "\n",
    "print(f\"\\nMean for unflagged data is: {str(np.nanmean(np_1d_array))}\")"
   ]
  },
  {
   "cell_type": "markdown",
   "metadata": {},
   "source": [
    "### 4. Plotting basics\n",
    "### Tasks\n",
    "4.1 Scatter plot <br>\n",
    "4.2 Plotting sine and cosine  <br>\n",
    "4.3 Plotting an Image <br>\n",
    "4.4 Exercise <br>"
   ]
  },
  {
   "cell_type": "code",
   "execution_count": 50,
   "metadata": {},
   "outputs": [],
   "source": [
    "import matplotlib.pyplot as plt\n",
    "# This import can be skipped as we have already imported previously once\n",
    "\n",
    "%matplotlib inline"
   ]
  },
  {
   "cell_type": "markdown",
   "metadata": {},
   "source": [
    "### 4.1 Scatter Plot"
   ]
  },
  {
   "cell_type": "code",
   "execution_count": 51,
   "metadata": {},
   "outputs": [
    {
     "name": "stdout",
     "output_type": "stream",
     "text": [
      "x_data=array([18, 11,  9,  8, 19, 14,  4,  9,  4,  4])\n",
      "y_data=array([ 1, 18, 19, 13, 14,  9,  5,  1,  3, 11])\n",
      "\n"
     ]
    },
    {
     "data": {
      "text/plain": [
       "Text(0.5, 1.0, 'Sample scatter plot')"
      ]
     },
     "execution_count": 51,
     "metadata": {},
     "output_type": "execute_result"
    },
    {
     "data": {
      "image/png": "[encoded data removed]",
      "text/plain": [
       "<Figure size 432x288 with 1 Axes>"
      ]
     },
     "metadata": {
      "needs_background": "light"
     },
     "output_type": "display_data"
    }
   ],
   "source": [
    "x_data = np.random.randint(20, size=10) \n",
    "y_data = np.random.randint(20, size=10) \n",
    "\n",
    "print(f\"{x_data=}\\n\"\n",
    "      f\"{y_data=}\\n\")\n",
    "\n",
    "plt.scatter(x_data, y_data)\n",
    "plt.xlabel(\"x-axis\")\n",
    "plt.ylabel(\"y-axis\")\n",
    "plt.title(\"Sample scatter plot\")\n",
    "#plt.show()\n",
    "# More info: https://matplotlib.org/stable/api/_as_gen/matplotlib.pyplot.scatter.html"
   ]
  },
  {
   "cell_type": "code",
   "execution_count": 52,
   "metadata": {},
   "outputs": [
    {
     "data": {
      "text/plain": [
       "Text(0.5, 1.0, 'Sample scatter plot (markers)')"
      ]
     },
     "execution_count": 52,
     "metadata": {},
     "output_type": "execute_result"
    },
    {
     "data": {
      "image/png": "[encoded data removed]",
      "text/plain": [
       "<Figure size 432x288 with 1 Axes>"
      ]
     },
     "metadata": {
      "needs_background": "light"
     },
     "output_type": "display_data"
    }
   ],
   "source": [
    "plt.scatter(x_data, y_data, marker='x')\n",
    "plt.xlabel(\"x-axis\")\n",
    "plt.ylabel(\"y-axis\")\n",
    "plt.title(\"Sample scatter plot (markers)\")\n",
    "#plt.show()\n",
    "# More info: https://matplotlib.org/stable/api/markers_api.html#module-matplotlib.markers"
   ]
  },
  {
   "cell_type": "markdown",
   "metadata": {},
   "source": [
    "### 4.2 Plotting sine and cosine"
   ]
  },
  {
   "cell_type": "code",
   "execution_count": 53,
   "metadata": {},
   "outputs": [
    {
     "data": {
      "text/plain": [
       "Text(0.5, 1.0, 'Sample Plot')"
      ]
     },
     "execution_count": 53,
     "metadata": {},
     "output_type": "execute_result"
    },
    {
     "data": {
      "image/png": "[encoded data removed]",
      "text/plain": [
       "<Figure size 432x288 with 1 Axes>"
      ]
     },
     "metadata": {
      "needs_background": "light"
     },
     "output_type": "display_data"
    }
   ],
   "source": [
    "x_data = np.linspace(0,10, 101)# 0, 0.1,0.2...,9.9,10\n",
    "y_sin_data = np.sin(x_data)\n",
    "y_cos_data = np.cos(x_data)\n",
    "plt.plot(x_data, y_sin_data, 'b')\n",
    "plt.plot(x_data, y_cos_data, 'r')\n",
    "plt.xlabel(\"x-axis\")\n",
    "plt.ylabel(\"y-axis\")\n",
    "\n",
    "plt.legend(['sine', 'cosine'])\n",
    "\n",
    "plt.title(\"Sample Plot\")\n",
    "#plt.show()\n",
    "# More info: https://matplotlib.org/stable/api/markers_api.html#module-matplotlib.markers"
   ]
  },
  {
   "cell_type": "markdown",
   "metadata": {},
   "source": [
    "### 4.3 Plotting image"
   ]
  },
  {
   "cell_type": "code",
   "execution_count": 55,
   "metadata": {},
   "outputs": [
    {
     "name": "stdout",
     "output_type": "stream",
     "text": [
      "[[ 0  1  2  3  4]\n",
      " [ 5  6  7  8  9]\n",
      " [10 11 12 13 14]\n",
      " [15 16 17 18 19]]\n"
     ]
    },
    {
     "data": {
      "text/plain": [
       "Text(0, 0.5, 'y-axis')"
      ]
     },
     "execution_count": 55,
     "metadata": {},
     "output_type": "execute_result"
    },
    {
     "data": {
      "image/png": "[encoded data removed]",
      "text/plain": [
       "<Figure size 432x288 with 2 Axes>"
      ]
     },
     "metadata": {
      "needs_background": "light"
     },
     "output_type": "display_data"
    }
   ],
   "source": [
    "image_arr = np.arange(20).reshape(4,-1)\n",
    "\n",
    "print(image_arr)\n",
    "\n",
    "plt.imshow(image_arr, cmap=\"hot\")\n",
    "\n",
    "# add colorbar\n",
    "plt.colorbar()\n",
    "\n",
    "# add title\n",
    "plt.title(\"Sample Image\")\n",
    "\n",
    "# add axes labels\n",
    "plt.xlabel(\"x-axis\")\n",
    "plt.ylabel(\"y-axis\")\n",
    "\n",
    "# change extent\n",
    "# change color\n",
    "# plt.show()\n",
    "\n",
    "# More info: https://matplotlib.org/stable/api/_as_gen/matplotlib.pyplot.imshow.html"
   ]
  },
  {
   "cell_type": "markdown",
   "metadata": {},
   "source": [
    "### 4.4 Exercise"
   ]
  },
  {
   "cell_type": "markdown",
   "metadata": {},
   "source": [
    "<b>Problem statement</b>: \n",
    "* Given a dynamic spectrum of a dispersed pulse, obtain the *off-pulse spectrum*. \n",
    "* A folded dynamic spectrum of a simulated dispersed pule is given in file: `simulated_pulse.image`.<br>\n",
    "#### Steps\n",
    "1. Import this data using *`np.loadtxt`* <br>\n",
    "2. Using *`matplotlib.pyplot.imshow`*, plot this image data. Make sure that the extent along both axes correct:\n",
    "    * PulsePhase axis: from 0 to 1\n",
    "    * Frequency: Let's say central frequency is 220 MHz and bandwidth is 20 MHz\n",
    "3. Add lables and colorbar to the image\n",
    "4. Note the Pulse Phase range(columns) where the dispersed pulse exists and flag these.\n",
    "5. Take mean along the pulse phase for each frequency channel to obtain the off-pulse spectrum.\n",
    "6. Save this off-pulse spectrum using *`np.savetxt`*"
   ]
  },
  {
   "cell_type": "code",
   "execution_count": 59,
   "metadata": {},
   "outputs": [
    {
     "data": {
      "text/plain": [
       "<matplotlib.colorbar.Colorbar at 0x1243f8340>"
      ]
     },
     "execution_count": 59,
     "metadata": {},
     "output_type": "execute_result"
    },
    {
     "data": {
      "image/png": "[encoded data removed]",
      "text/plain": [
       "<Figure size 432x288 with 2 Axes>"
      ]
     },
     "metadata": {
      "needs_background": "light"
     },
     "output_type": "display_data"
    }
   ],
   "source": [
    "dynanmic_spectrum = np.loadtxt(\"simulated_pulse.image\")\n",
    "\n",
    "plt.imshow(dynanmic_spectrum,aspect=\"auto\", cmap=\"hot\", extent=[0, 1, 210, 230])\n",
    "plt.title(\"Simulated Pulse\")\n",
    "plt.xlabel(\"Pulse Phase\")\n",
    "plt.ylabel(\"Frequency (MHz)\")\n",
    "plt.colorbar()"
   ]
  },
  {
   "cell_type": "code",
   "execution_count": 60,
   "metadata": {},
   "outputs": [
    {
     "data": {
      "text/plain": [
       "Text(0, 0.5, 'Frequency Channels')"
      ]
     },
     "execution_count": 60,
     "metadata": {},
     "output_type": "execute_result"
    },
    {
     "data": {
      "image/png": "[encoded data removed]",
      "text/plain": [
       "<Figure size 432x288 with 1 Axes>"
      ]
     },
     "metadata": {
      "needs_background": "light"
     },
     "output_type": "display_data"
    }
   ],
   "source": [
    "# Flag the pulse\n",
    "dispersed_pulse_start_phase = 0.7\n",
    "dispersed_pulse_end_phase = 0.9\n",
    "\n",
    "dispersed_pulse_start = int(dispersed_pulse_start_phase*1000)\n",
    "dispersed_pulse_end = int(dispersed_pulse_end_phase*1000)\n",
    "dynanmic_spectrum[:, dispersed_pulse_start:dispersed_pulse_end] = np.nan\n",
    "\n",
    "plt.imshow(dynanmic_spectrum,aspect=\"auto\", cmap=\"hot\")\n",
    "plt.imshow(dynanmic_spectrum,aspect=\"auto\", cmap=\"hot\")\n",
    "plt.title(\"Simulated Pulse\")\n",
    "plt.xlabel(\"Pulse Phase\")\n",
    "plt.ylabel(\"Frequency Channels\")\n"
   ]
  },
  {
   "cell_type": "code",
   "execution_count": 61,
   "metadata": {
    "scrolled": true
   },
   "outputs": [
    {
     "data": {
      "image/png": "[encoded data removed]",
      "text/plain": [
       "<Figure size 432x288 with 1 Axes>"
      ]
     },
     "metadata": {
      "needs_background": "light"
     },
     "output_type": "display_data"
    }
   ],
   "source": [
    "with warnings.catch_warnings():\n",
    "    warnings.simplefilter(\"ignore\", category=RuntimeWarning)\n",
    "    offpulse_spectrum = np.nanmean(dynanmic_spectrum, axis=1)\n",
    "\n",
    "plt.plot(offpulse_spectrum)\n",
    "plt.title(\"Offpulse Spectrum\")\n",
    "plt.xlabel(\"Frequecny Channels\")\n",
    "plt.ylabel(\"Intensity\")\n",
    "\n",
    "np.savetxt(\"offpulse_spectrum.dat\", offpulse_spectrum)"
   ]
  }
 ],
 "metadata": {
  "kernelspec": {
   "display_name": "Python 3",
   "language": "python",
   "name": "python3"
  },
  "language_info": {
   "codemirror_mode": {
    "name": "ipython",
    "version": 3
   },
   "file_extension": ".py",
   "mimetype": "text/x-python",
   "name": "python",
   "nbconvert_exporter": "python",
   "pygments_lexer": "ipython3",
   "version": "3.8.10"
  }
 },
 "nbformat": 4,
 "nbformat_minor": 4
}
